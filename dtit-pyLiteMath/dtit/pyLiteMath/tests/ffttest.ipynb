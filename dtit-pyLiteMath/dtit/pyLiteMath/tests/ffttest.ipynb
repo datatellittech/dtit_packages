{
 "cells": [
  {
   "cell_type": "code",
   "execution_count": 1,
   "metadata": {},
   "outputs": [],
   "source": [
    "import numpy as np\n",
    "import sys\n",
    "from scipy.fftpack import fft,ifft\n",
    "import matplotlib.pyplot as plt\n",
    "import dtit.pyLiteMath as lmath"
   ]
  },
  {
   "cell_type": "code",
   "execution_count": 2,
   "metadata": {},
   "outputs": [],
   "source": [
    "#采样点选择1024个，因为设置的信号频率分量最高为600赫兹，根据采样定理知采样频率要大于信号频率2倍，所以这里设置采样频率为1024赫兹（即一秒内有1400个采样点，一样意思的）\n",
    "x=np.linspace(0,1,1024)  \n",
    " \n",
    "#设置需要采样的信号，频率分量有180，390和600\n",
    "y=10*np.sin(2*np.pi*180*x) + 3*np.sin(2*np.pi*390*x)+5*np.sin(2*np.pi*600*x)\n",
    " \n",
    "yy=fft(y)      #快速傅里叶变换\n",
    "yreal = yy.real    # 获取实数部分\n",
    "yimag = yy.imag    # 获取虚数部分\n",
    " \n",
    "yf=abs(fft(y))    # 取绝对值\n",
    "yf1=abs(fft(y))/len(x)   #归一化处理\n",
    "yf2 = yf1[range(int(len(x)/2))] #由于对称性，只取一半区间\n",
    " \n",
    "xf = np.arange(len(y))  # 频率\n",
    "xf1 = xf\n",
    "xf2 = xf[range(int(len(x)/2))] #取一半区间"
   ]
  },
  {
   "cell_type": "code",
   "execution_count": 3,
   "metadata": {},
   "outputs": [
    {
     "name": "stdout",
     "output_type": "stream",
     "text": [
      "[0.08828802 0.0809624  0.07396906 0.06730524 0.06096831 0.0549558\n",
      " 0.04926537 0.04389479 0.038842   0.03410503 0.02968207 0.02557141\n",
      " 0.02177149 0.01828084 0.01509815 0.01222219 0.00965187 0.00738623\n",
      " 0.0054244  0.00376564 0.00240933 0.00135495 0.00060211 0.00015051]\n"
     ]
    }
   ],
   "source": [
    "print(yreal[1000:1025])"
   ]
  },
  {
   "cell_type": "code",
   "execution_count": 4,
   "metadata": {},
   "outputs": [
    {
     "name": "stdout",
     "output_type": "stream",
     "text": [
      "-17.858352746421122\n"
     ]
    }
   ],
   "source": [
    "print(min(y))"
   ]
  },
  {
   "cell_type": "code",
   "execution_count": 5,
   "metadata": {},
   "outputs": [
    {
     "name": "stdout",
     "output_type": "stream",
     "text": [
      "[1.19689146 1.14547069 1.09425191 1.04322543 0.99238169 0.94171126\n",
      " 0.8912048  0.8408531  0.79064702 0.74057754 0.6906357  0.64081265\n",
      " 0.59109959 0.54148781 0.49196863 0.44253347 0.39317377 0.34388103\n",
      " 0.29464679 0.24546263 0.19632015 0.14721099 0.09812679 0.04905924]\n"
     ]
    }
   ],
   "source": [
    "print(yimag[1000:1025])"
   ]
  },
  {
   "cell_type": "code",
   "execution_count": 13,
   "metadata": {},
   "outputs": [
    {
     "name": "stdout",
     "output_type": "stream",
     "text": [
      "0\n"
     ]
    }
   ],
   "source": [
    "X = xf\n",
    "Y = np.round(y / 18 * 2048)\n",
    "fr = Y.astype(np.int16)\n",
    "fi = np.zeros(1024).astype(np.int16)\n",
    "#fi = fr\n",
    "result = lmath.pyFFT1024(fr, fi)\n",
    "fr = fr.astype(np.int32)\n",
    "fi = fi.astype(np.int32)\n",
    "Y1 = np.round(np.sqrt(fr * fr + fi * fi))\n",
    "print(result)"
   ]
  },
  {
   "cell_type": "code",
   "execution_count": 7,
   "metadata": {},
   "outputs": [
    {
     "name": "stdout",
     "output_type": "stream",
     "text": [
      "[-1  0  0  0 -1 -1 -1 -1  0 -2 -1 -1 -1 -2 -1  0 -1 -1 -2 -1  0 -2 -2 -2]\n"
     ]
    }
   ],
   "source": [
    "print(fr[1000:1025])"
   ]
  },
  {
   "cell_type": "code",
   "execution_count": 8,
   "metadata": {},
   "outputs": [
    {
     "name": "stdout",
     "output_type": "stream",
     "text": [
      "1024\n"
     ]
    }
   ],
   "source": [
    "print(len(xf))"
   ]
  },
  {
   "cell_type": "code",
   "execution_count": 9,
   "metadata": {},
   "outputs": [
    {
     "name": "stdout",
     "output_type": "stream",
     "text": [
      "[  -28.   927.   538.   941. -1736.  -527.   126.   465.  1752. -1103.\n",
      "  -612.  -714.   -42.  1878.  -133.  -197. -1183.  -654.  1204.   675.\n",
      "   498. -1076.  -954.    -0.]\n"
     ]
    }
   ],
   "source": [
    "print(Y[1000:1025])"
   ]
  },
  {
   "cell_type": "code",
   "execution_count": 10,
   "metadata": {},
   "outputs": [
    {
     "name": "stdout",
     "output_type": "stream",
     "text": [
      "[1. 1. 1. 1. 1. 2. 1. 1. 1. 2. 1. 1. 1. 2. 2. 1. 2. 2. 3. 1. 2. 3. 3. 2.]\n"
     ]
    }
   ],
   "source": [
    "print(Y1[1000:1025])"
   ]
  },
  {
   "cell_type": "code",
   "execution_count": 11,
   "metadata": {},
   "outputs": [
    {
     "name": "stdout",
     "output_type": "stream",
     "text": [
      "[-1 -1 -1 -1 -1 -2 -1 -1 -1 -1 -1 -1 -1 -1 -2 -1 -2 -2 -2 -1 -2 -2 -2 -1]\n"
     ]
    }
   ],
   "source": [
    "print(fi[1000:1025])"
   ]
  },
  {
   "cell_type": "code",
   "execution_count": 12,
   "metadata": {},
   "outputs": [
    {
     "data": {
      "image/png": "[encoded data removed]",
      "text/plain": [
       "<Figure size 432x288 with 4 Axes>"
      ]
     },
     "metadata": {
      "needs_background": "light"
     },
     "output_type": "display_data"
    }
   ],
   "source": [
    "plt.subplot(221)\n",
    "plt.plot(x[0:50],y[0:50]) \n",
    "plt.title('Original wave')\n",
    " \n",
    "plt.subplot(222)\n",
    "plt.plot(xf,yf,'r')\n",
    "plt.title('FFT of Mixed wave(two sides frequency range)',fontsize=7,color='#7A378B') #注意这里的颜色可以查询颜色代码表\n",
    " \n",
    "plt.subplot(223)\n",
    "plt.plot(xf1,yf1,'g')\n",
    "plt.title('FFT of Mixed wave(normalization)',fontsize=9,color='r')\n",
    " \n",
    "plt.subplot(224)\n",
    "#plt.plot(xf2,yf2,'b')\n",
    "plt.plot(X,Y1,'b')\n",
    "plt.title('FFT of Mixed wave)',fontsize=10,color='#F08080')\n",
    " \n",
    "plt.show()"
   ]
  },
  {
   "cell_type": "code",
   "execution_count": null,
   "metadata": {},
   "outputs": [],
   "source": []
  }
 ],
 "metadata": {
  "kernelspec": {
   "display_name": "Python 3",
   "language": "python",
   "name": "python3"
  },
  "language_info": {
   "codemirror_mode": {
    "name": "ipython",
    "version": 3
   },
   "file_extension": ".py",
   "mimetype": "text/x-python",
   "name": "python",
   "nbconvert_exporter": "python",
   "pygments_lexer": "ipython3",
   "version": "3.7.7"
  }
 },
 "nbformat": 4,
 "nbformat_minor": 4
}
